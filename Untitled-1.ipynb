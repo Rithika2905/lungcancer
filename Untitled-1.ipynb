{
 "cells": [
  {
   "cell_type": "code",
   "execution_count": 20,
   "metadata": {},
   "outputs": [],
   "source": [
    "import os\n",
    "import numpy as np\n",
    "import pandas as pd\n",
    "from sklearn.preprocessing import LabelEncoder\n",
    "from sklearn.linear_model import LogisticRegression\n",
    "from sklearn.metrics import classification_report\n",
    "import lightgbm as lgb\n",
    "from tensorflow.keras.preprocessing.image import load_img, img_to_array"
   ]
  },
  {
   "cell_type": "code",
   "execution_count": 1,
   "metadata": {},
   "outputs": [
    {
     "name": "stdout",
     "output_type": "stream",
     "text": [
      "Requirement already satisfied: lightgbm in c:\\users\\admin\\appdata\\local\\programs\\python\\python38\\lib\\site-packages (4.5.0)\n",
      "Requirement already satisfied: numpy>=1.17.0 in c:\\users\\admin\\appdata\\local\\programs\\python\\python38\\lib\\site-packages (from lightgbm) (1.24.2)\n",
      "Requirement already satisfied: scipy in c:\\users\\admin\\appdata\\local\\programs\\python\\python38\\lib\\site-packages (from lightgbm) (1.10.1)\n",
      "Note: you may need to restart the kernel to use updated packages.\n"
     ]
    },
    {
     "name": "stderr",
     "output_type": "stream",
     "text": [
      "\n",
      "[notice] A new release of pip is available: 23.2.1 -> 24.3.1\n",
      "[notice] To update, run: python.exe -m pip install --upgrade pip\n"
     ]
    }
   ],
   "source": [
    "pip install lightgbm"
   ]
  },
  {
   "cell_type": "code",
   "execution_count": 21,
   "metadata": {},
   "outputs": [],
   "source": [
    "train_dir = r\"C:\\Users\\ADMIN\\Downloads\\lungcancer\\Data\\train\"\n",
    "val_dir = r\"C:\\Users\\ADMIN\\Downloads\\lungcancer\\Data\\valid\"\n",
    "test_dir = r\"C:\\Users\\ADMIN\\Downloads\\lungcancer\\Data\\test\""
   ]
  },
  {
   "cell_type": "code",
   "execution_count": 22,
   "metadata": {},
   "outputs": [],
   "source": [
    "img_height, img_width = 128, 128"
   ]
  },
  {
   "cell_type": "code",
   "execution_count": 23,
   "metadata": {},
   "outputs": [],
   "source": [
    "def load_images(data_dir):\n",
    "    images, labels = [], []\n",
    "    for label in os.listdir(data_dir):\n",
    "        label_path = os.path.join(data_dir, label)\n",
    "        if os.path.isdir(label_path):\n",
    "            for img_file in os.listdir(label_path):\n",
    "                img_path = os.path.join(label_path, img_file)\n",
    "                try:\n",
    "                    img = load_img(img_path, target_size=(img_height, img_width), color_mode='grayscale')\n",
    "                    img_array = img_to_array(img) / 255.0\n",
    "                    images.append(img_array.flatten())\n",
    "                    labels.append(label)\n",
    "                except Exception as e:\n",
    "                    print(f\"Error loading image {img_path}: {e}\")\n",
    "    return np.array(images), np.array(labels)"
   ]
  },
  {
   "cell_type": "code",
   "execution_count": 24,
   "metadata": {},
   "outputs": [],
   "source": [
    "X_train, y_train = load_images(train_dir)\n",
    "X_val, y_val = load_images(val_dir)\n",
    "X_test, y_test = load_images(test_dir)"
   ]
  },
  {
   "cell_type": "code",
   "execution_count": 26,
   "metadata": {},
   "outputs": [],
   "source": [
    "from sklearn.utils.class_weight import compute_class_weight\n",
    "from sklearn.preprocessing import StandardScaler\n",
    "import lightgbm as lgb\n",
    "from sklearn.linear_model import LogisticRegression\n",
    "from tensorflow.keras.preprocessing.image import load_img, img_to_array\n",
    "import numpy as np"
   ]
  },
  {
   "cell_type": "code",
   "execution_count": 27,
   "metadata": {},
   "outputs": [],
   "source": [
    "# Normalize labels\n",
    "y_train = [label.lower().strip() for label in y_train]\n",
    "y_val = [label.lower().strip() for label in y_val]\n",
    "y_test = [label.lower().strip() for label in y_test]\n",
    "\n",
    "# Fit LabelEncoder on all labels\n",
    "le = LabelEncoder()\n",
    "le.fit(y_train + y_val + y_test)\n",
    "\n",
    "# Encode labels\n",
    "y_train_encoded = le.transform(y_train)\n",
    "y_val_encoded = le.transform(y_val)\n",
    "y_test_encoded = le.transform(y_test)\n",
    "class_weights = compute_class_weight('balanced', classes=np.unique(y_train_encoded), y=y_train_encoded)\n",
    "class_weight_dict = dict(zip(np.unique(y_train_encoded), class_weights))\n"
   ]
  },
  {
   "cell_type": "code",
   "execution_count": 28,
   "metadata": {},
   "outputs": [],
   "source": [
    "from sklearn.preprocessing import StandardScaler\n",
    "from sklearn.linear_model import LogisticRegression"
   ]
  },
  {
   "cell_type": "code",
   "execution_count": 29,
   "metadata": {},
   "outputs": [
    {
     "name": "stdout",
     "output_type": "stream",
     "text": [
      "Logistic Regression Results:\n",
      "              precision    recall  f1-score   support\n",
      "\n",
      "           0       1.00      0.00      0.00       120\n",
      "           1       0.00      1.00      0.00         0\n",
      "           2       1.00      0.00      0.00        51\n",
      "           3       0.00      1.00      0.00         0\n",
      "           4       0.77      0.91      0.83        54\n",
      "           5       1.00      0.00      0.00        90\n",
      "           6       0.00      1.00      0.00         0\n",
      "\n",
      "    accuracy                           0.16       315\n",
      "   macro avg       0.54      0.56      0.12       315\n",
      "weighted avg       0.96      0.16      0.14       315\n",
      "\n"
     ]
    }
   ],
   "source": [
    "# LightGBM params\n",
    "params = {\n",
    "    'objective': 'multiclass',\n",
    "    'num_class': len(le.classes_),\n",
    "    'metric': 'multi_logloss',\n",
    "    'learning_rate': 0.05,\n",
    "    'verbose': -1,\n",
    "    'max_depth': -1,\n",
    "    'num_leaves': 31,\n",
    "    'scale_pos_weight': class_weights.max()\n",
    "}\n",
    "\n",
    "# StandardScaler to scale the data\n",
    "scaler = StandardScaler()\n",
    "X_train_scaled = scaler.fit_transform(X_train)\n",
    "X_val_scaled = scaler.transform(X_val)\n",
    "X_test_scaled = scaler.transform(X_test)\n",
    "\n",
    "# Logistic Regression model\n",
    "lr_model = LogisticRegression(max_iter=5000, class_weight='balanced', solver='liblinear')\n",
    "lr_model.fit(X_train_scaled, y_train_encoded)\n",
    "y_pred_lr = lr_model.predict(X_test_scaled)\n",
    "print(\"Logistic Regression Results:\")\n",
    "print(classification_report(y_test_encoded, y_pred_lr, zero_division=1))"
   ]
  },
  {
   "cell_type": "code",
   "execution_count": null,
   "metadata": {},
   "outputs": [
    {
     "name": "stdout",
     "output_type": "stream",
     "text": [
      "Training until validation scores don't improve for 50 rounds\n"
     ]
    }
   ],
   "source": [
    "# Corrected LightGBM model training with early stopping in callbacks\n",
    "lgb_train = lgb.Dataset(X_train_scaled, label=y_train_encoded)\n",
    "lgb_eval = lgb.Dataset(X_val_scaled, label=y_val_encoded, reference=lgb_train)\n",
    "\n",
    "# Correct placement of early stopping\n",
    "lgb_model = lgb.train(\n",
    "    params,\n",
    "    lgb_train,\n",
    "    num_boost_round=1000,\n",
    "    valid_sets=[lgb_train, lgb_eval],\n",
    "    valid_names=['train', 'valid'],\n",
    "    callbacks=[lgb.early_stopping(stopping_rounds=50)]  # Correctly placed in callbacks\n",
    ")\n",
    "\n",
    "y_pred_lgb = np.argmax(lgb_model.predict(X_test_scaled, num_iteration=lgb_model.best_iteration), axis=1)\n",
    "print(\"LightGBM Results:\")\n",
    "print(classification_report(y_test_encoded, y_pred_lgb))\n"
   ]
  },
  {
   "cell_type": "code",
   "execution_count": null,
   "metadata": {},
   "outputs": [],
   "source": []
  }
 ],
 "metadata": {
  "kernelspec": {
   "display_name": "Python 3",
   "language": "python",
   "name": "python3"
  },
  "language_info": {
   "codemirror_mode": {
    "name": "ipython",
    "version": 3
   },
   "file_extension": ".py",
   "mimetype": "text/x-python",
   "name": "python",
   "nbconvert_exporter": "python",
   "pygments_lexer": "ipython3",
   "version": "3.8.5"
  }
 },
 "nbformat": 4,
 "nbformat_minor": 2
}
